{
 "cells": [
  {
   "cell_type": "markdown",
   "id": "5c5699e9-1a64-4bc2-93bc-4a905398cfe8",
   "metadata": {},
   "source": [
    "##### "
   ]
  },
  {
   "cell_type": "markdown",
   "id": "d66bd897-a7c4-44eb-82de-da54ef25b3a5",
   "metadata": {},
   "source": [
    "ML ASSIGNMENT 15 MARCH \n",
    "\n",
    "\n",
    "\n",
    "Q1- Explain these terms with an example:\n",
    "Artificial Intelligence: It's when machines can do smart things, like recognizing speech or driving cars.\n",
    "Machine Learning: It's when machines learn from data. For example, predicting if an email is spam or not.\n",
    "Deep Learning: It's a type of machine learning inspired by how our brains work. For instance, recognizing objects in images.\n",
    "\n",
    "Q2- What is supervised learning? Give some examples.\n",
    "Supervised learning is like teaching a computer with labeled examples. For instance, showing it pictures of cats and dogs and telling which is which. Examples include predicting house prices or classifying emails as spam or not.\n",
    "\n",
    "Q3- What is unsupervised learning? Give some examples.\n",
    "Unsupervised learning is when the computer learns from data without being told what to look for. It might group similar things together. Examples include organizing news articles into topics or identifying patterns in customer data.\n",
    "\n",
    "Q4- What's the difference between AI, ML, DL, and DS?\n",
    "AI is like the whole idea of computers being smart. Machine Learning is a part of AI where computers learn from data. Deep Learning is a fancy kind of Machine Learning inspired by the brain. DS stands for Data Science, which is the overall field of studying and making sense of data.\n",
    "\n",
    "Q5- What are the main differences between supervised, unsupervised, and semi-supervised learning?\n",
    "Supervised learning uses labeled data to teach the computer. Unsupervised learning doesn't have labels, it learns on its own. Semi-supervised learning is a mix, where some data is labeled and some isn't.\n",
    "\n",
    "Q6- What is train, test, and validation split? Why are they important?\n",
    "Train data is used to teach the computer, test data is used to see how well it learned, and validation data helps adjust the model to perform better. They're important to make sure the model works well on new, unseen data.\n",
    "\n",
    "Q7- How can unsupervised learning be used in anomaly detection?\n",
    "Unsupervised learning can find unusual patterns in data, so it can detect anomalies like fraud in transactions or unusual behavior in systems.\n",
    "\n",
    "Q8- List some commonly used supervised and unsupervised learning algorithms.\n",
    "Common supervised learning algorithms include Decision Trees, Random Forests, and Support Vector Machines. For unsupervised learning, popular ones are K-means clustering and Principal Component Analysis (PCA)."
   ]
  }
 ],
 "metadata": {
  "kernelspec": {
   "display_name": "Python 3 (ipykernel)",
   "language": "python",
   "name": "python3"
  },
  "language_info": {
   "codemirror_mode": {
    "name": "ipython",
    "version": 3
   },
   "file_extension": ".py",
   "mimetype": "text/x-python",
   "name": "python",
   "nbconvert_exporter": "python",
   "pygments_lexer": "ipython3",
   "version": "3.10.8"
  }
 },
 "nbformat": 4,
 "nbformat_minor": 5
}
