{
 "cells": [
  {
   "cell_type": "raw",
   "id": "ad8b00d8-76fa-40fa-8783-48525707cd12",
   "metadata": {},
   "source": [
    "import pandas as pd\n",
    "\n",
    "# Load the dataset (assuming it is a CSV file named 'flight_price.csv')\n",
    "flight_data = pd.read_csv('flight_price.csv')\n",
    "\n",
    "# Check the dimensions of the dataset\n",
    "rows, columns = flight_data.shape\n",
    "print(f\"The dataset has {rows} rows and {columns} columns.\")\n"
   ]
  },
  {
   "cell_type": "raw",
   "id": "380d71d0-86c1-4a63-a18a-05d69b1074a0",
   "metadata": {},
   "source": [
    "import matplotlib.pyplot as plt\n",
    "\n",
    "# Plot a histogram of flight prices\n",
    "plt.figure(figsize=(10, 6))\n",
    "plt.hist(flight_data['price'], bins=30, edgecolor='black')\n",
    "plt.title('Distribution of Flight Prices')\n",
    "plt.xlabel('Price')\n",
    "plt.ylabel('Frequency')\n",
    "plt.show()\n"
   ]
  },
  {
   "cell_type": "raw",
   "id": "3b556957-59af-4ea1-a6a7-c91d4b077b46",
   "metadata": {},
   "source": [
    "# Get the minimum and maximum prices\n",
    "min_price = flight_data['price'].min()\n",
    "max_price = flight_data['price'].max()\n",
    "\n",
    "print(f\"The minimum price is {min_price} and the maximum price is {max_price}.\")\n"
   ]
  },
  {
   "cell_type": "raw",
   "id": "12442615-c058-4a3f-aa70-9de711d815c8",
   "metadata": {},
   "source": [
    "import seaborn as sns\n",
    "\n",
    "# Plot a boxplot of prices by airline\n",
    "plt.figure(figsize=(12, 6))\n",
    "sns.boxplot(x='airline', y='price', data=flight_data)\n",
    "plt.title('Flight Prices by Airline')\n",
    "plt.xlabel('Airline')\n",
    "plt.ylabel('Price')\n",
    "plt.xticks(rotation=90)\n",
    "plt.show()\n"
   ]
  },
  {
   "cell_type": "raw",
   "id": "a300e8db-082a-48aa-92d8-2f8b999a9b69",
   "metadata": {},
   "source": [
    "# Plot a boxplot to identify outliers\n",
    "plt.figure(figsize=(10, 6))\n",
    "sns.boxplot(y=flight_data['price'])\n",
    "plt.title('Boxplot of Flight Prices')\n",
    "plt.ylabel('Price')\n",
    "plt.show()\n",
    "\n",
    "# Identifying potential outliers\n",
    "Q1 = flight_data['price'].quantile(0.25)\n",
    "Q3 = flight_data['price'].quantile(0.75)\n",
    "IQR = Q3 - Q1\n",
    "lower_bound = Q1 - 1.5 * IQR\n",
    "upper_bound = Q3 + 1.5 * IQR\n",
    "\n",
    "outliers = flight_data[(flight_data['price'] < lower_bound) | (flight_data['price'] > upper_bound)]\n",
    "print(f\"Number of potential outliers: {outliers.shape[0]}\")\n",
    "\n",
    "# Impact of outliers\n",
    "print(\"Outliers can skew the analysis by affecting the mean and variance of flight prices. They need to be handled appropriately depending on the analysis context.\")\n"
   ]
  },
  {
   "cell_type": "raw",
   "id": "34dfac0d-6038-4b3b-b869-32fda91eb70b",
   "metadata": {},
   "source": [
    "# Extracting month and day of the week from the date\n",
    "flight_data['date'] = pd.to_datetime(flight_data['date'])\n",
    "flight_data['month'] = flight_data['date'].dt.month\n",
    "flight_data['day_of_week'] = flight_data['date'].dt.dayofweek\n",
    "\n",
    "# Analyzing travel frequency by month\n",
    "monthly_travel = flight_data['month'].value_counts().sort_index()\n",
    "\n",
    "# Plotting the travel frequency by month\n",
    "plt.figure(figsize=(10, 6))\n",
    "monthly_travel.plot(kind='bar')\n",
    "plt.title('Travel Frequency by Month')\n",
    "plt.xlabel('Month')\n",
    "plt.ylabel('Number of Flights')\n",
    "plt.show()\n",
    "\n",
    "# Presenting findings\n",
    "print(\"To identify the peak travel season, analyze the number of flights per month and day of the week. The months with the highest number of flights indicate peak seasons. Present these findings using bar plots for clarity.\")\n"
   ]
  },
  {
   "cell_type": "raw",
   "id": "37447b23-d3db-40e0-9d74-34dc5633f8bd",
   "metadata": {},
   "source": [
    "# Analyzing flight prices over time\n",
    "flight_data['year_month'] = flight_data['date'].dt.to_period('M')\n",
    "\n",
    "# Plotting average flight price by month\n",
    "monthly_avg_price = flight_data.groupby('year_month')['price'].mean()\n",
    "\n",
    "plt.figure(figsize=(10, 6))\n",
    "monthly_avg_price.plot()\n",
    "plt.title('Average Flight Price Over Time')\n",
    "plt.xlabel('Year-Month')\n",
    "plt.ylabel('Average Price')\n",
    "plt.xticks(rotation=90)\n",
    "plt.show()\n",
    "\n",
    "# Presenting findings\n",
    "print(\"To identify trends in flight prices, analyze the average price over time using line plots. This can reveal seasonal trends, price fluctuations, and patterns that may help in forecasting future prices.\")\n"
   ]
  },
  {
   "cell_type": "raw",
   "id": "8df30011-2e66-4682-8484-479c1cb787e7",
   "metadata": {},
   "source": [
    "import statsmodels.api as sm\n",
    "from statsmodels.formula.api import ols\n",
    "\n",
    "# Example of a simple regression model to analyze factors\n",
    "model = ols('price ~ C(airline) + duration + C(month) + C(day_of_week)', data=flight_data).fit()\n",
    "print(model.summary())\n",
    "\n",
    "# Presenting findings\n",
    "print(\"To identify factors affecting flight prices, build a regression model including variables like airline, duration, month, and day of the week. Use the model summary to identify significant factors. Present the findings using visualizations like boxplots and regression plots to show the relationships between these factors and flight prices.\")\n"
   ]
  },
  {
   "cell_type": "code",
   "execution_count": null,
   "id": "fa7d1ae6-5318-42b0-9ef3-1827b921a932",
   "metadata": {},
   "outputs": [],
   "source": []
  },
  {
   "cell_type": "code",
   "execution_count": null,
   "id": "9d21681f-3d3e-46e0-a132-4ddbaa9c3e4b",
   "metadata": {},
   "outputs": [],
   "source": []
  },
  {
   "cell_type": "raw",
   "id": "a8a404ab-278d-45e3-bc0a-c1832e8ee7fe",
   "metadata": {},
   "source": [
    "import pandas as pd\n",
    "\n",
    "# Load the dataset (assuming it is a CSV file named 'google_playstore.csv')\n",
    "playstore_data = pd.read_csv('google_playstore.csv')\n",
    "\n",
    "# Check the dimensions of the dataset\n",
    "rows, columns = playstore_data.shape\n",
    "print(f\"The dataset has {rows} rows and {columns} columns.\")\n"
   ]
  },
  {
   "cell_type": "raw",
   "id": "77624f66-e636-4955-9a71-9cd1212c37e3",
   "metadata": {},
   "source": [
    "import seaborn as sns\n",
    "import matplotlib.pyplot as plt\n",
    "\n",
    "# Plot a boxplot of ratings by category\n",
    "plt.figure(figsize=(12, 6))\n",
    "sns.boxplot(x='Category', y='Rating', data=playstore_data)\n",
    "plt.title('App Ratings by Category')\n",
    "plt.xlabel('Category')\n",
    "plt.ylabel('Rating')\n",
    "plt.xticks(rotation=90)\n",
    "plt.show()\n"
   ]
  },
  {
   "cell_type": "raw",
   "id": "62bf2f3b-3b6d-4082-b945-f6e6faa0d652",
   "metadata": {},
   "source": [
    "# Check for missing values\n",
    "missing_values = playstore_data.isnull().sum()\n",
    "\n",
    "# Print columns with missing values and their counts\n",
    "print(\"Columns with missing values:\")\n",
    "print(missing_values[missing_values > 0])\n",
    "\n",
    "# Describe impact of missing values\n",
    "print(\"Missing values can affect analysis by reducing the amount of data available for insights and potentially biasing results if not handled properly.\")\n"
   ]
  },
  {
   "cell_type": "raw",
   "id": "0a001ca3-5955-460c-abfd-8b33da55adfe",
   "metadata": {},
   "source": [
    "# Convert 'Size' column to numeric (removing 'M' and 'k' suffixes)\n",
    "playstore_data['Size_numeric'] = playstore_data['Size'].apply(lambda x: float(x[:-1]) * 1e6 if 'M' in x else float(x[:-1]) * 1e3 if 'k' in x else None)\n",
    "\n",
    "# Plotting the relationship between size and rating\n",
    "plt.figure(figsize=(10, 6))\n",
    "plt.scatter(playstore_data['Size_numeric'], playstore_data['Rating'], alpha=0.5)\n",
    "plt.title('App Size vs. Rating')\n",
    "plt.xlabel('Size (bytes)')\n",
    "plt.ylabel('Rating')\n",
    "plt.show()\n"
   ]
  },
  {
   "cell_type": "raw",
   "id": "9f033401-c7aa-4e52-a898-8a31d7479790",
   "metadata": {},
   "source": [
    "# Plotting average prices by app type\n",
    "plt.figure(figsize=(10, 6))\n",
    "avg_price_by_type = playstore_data.groupby('Type')['Price'].mean()\n",
    "avg_price_by_type.plot(kind='bar', rot=0)\n",
    "plt.title('Average Price by App Type')\n",
    "plt.xlabel('App Type')\n",
    "plt.ylabel('Average Price')\n",
    "plt.show()\n"
   ]
  },
  {
   "cell_type": "raw",
   "id": "ebe663ae-9a11-47f3-98a3-565a7471bf93",
   "metadata": {},
   "source": [
    "# Convert 'Installs' to numeric for sorting\n",
    "playstore_data['Installs_numeric'] = playstore_data['Installs'].str.replace('[+,]', '').astype('int')\n",
    "\n",
    "# Sorting by number of installs and selecting top 10\n",
    "top_10_apps = playstore_data.nlargest(10, 'Installs_numeric')[['App', 'Installs']]\n",
    "print(\"Top 10 Most Popular Apps:\")\n",
    "print(top_10_apps)\n"
   ]
  },
  {
   "cell_type": "raw",
   "id": "86212c03-417d-43bd-b0f1-8d99a5926cea",
   "metadata": {},
   "source": [
    "# Analyze the frequency of apps in each category\n",
    "category_counts = playstore_data['Category'].value_counts()\n",
    "\n",
    "# Plotting the top categories\n",
    "plt.figure(figsize=(10, 6))\n",
    "category_counts.head(10).plot(kind='bar')\n",
    "plt.title('Top 10 App Categories by Count')\n",
    "plt.xlabel('Category')\n",
    "plt.ylabel('Number of Apps')\n",
    "plt.show()\n",
    "\n",
    "# Presenting findings\n",
    "print(\"To recommend popular app categories, analyze the frequency of apps in each category. Focus on categories with the highest number of apps and installs to identify potential areas of interest for launching a new app.\")\n"
   ]
  },
  {
   "cell_type": "code",
   "execution_count": null,
   "id": "7a3f201e-95ba-4f92-a1f1-a6148e876181",
   "metadata": {},
   "outputs": [],
   "source": []
  }
 ],
 "metadata": {
  "kernelspec": {
   "display_name": "Python 3 (ipykernel)",
   "language": "python",
   "name": "python3"
  },
  "language_info": {
   "codemirror_mode": {
    "name": "ipython",
    "version": 3
   },
   "file_extension": ".py",
   "mimetype": "text/x-python",
   "name": "python",
   "nbconvert_exporter": "python",
   "pygments_lexer": "ipython3",
   "version": "3.10.8"
  }
 },
 "nbformat": 4,
 "nbformat_minor": 5
}
