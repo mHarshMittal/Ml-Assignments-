{
 "cells": [
  {
   "cell_type": "raw",
   "id": "7020e9c8-dbae-42e6-b404-eba6247225b5",
   "metadata": {},
   "source": [
    "Q1. Relationship Between Polynomial Functions and Kernel Functions in Machine Learning\n",
    "Polynomial Functions:\n",
    "\n",
    "Polynomial functions are mathematical expressions involving powers of variables. For example, a polynomial of degree 2 can be written as \n",
    "𝑓\n",
    "\n",
    "In machine learning, polynomial features can be used to capture interactions between features and create non-linear decision boundaries."
   ]
  },
  {
   "cell_type": "raw",
   "id": "555be22f-b33d-4b02-8c30-7dc066954aab",
   "metadata": {},
   "source": [
    "Kernel functions are used in algorithms like Support Vector Machines (SVM) to compute the inner product of two vectors in a high-dimensional feature space without explicitly transforming the data into that space"
   ]
  },
  {
   "cell_type": "code",
   "execution_count": 1,
   "id": "5ee2aa60-ec0c-4533-8ebc-1f0c9abe077d",
   "metadata": {},
   "outputs": [
    {
     "name": "stdout",
     "output_type": "stream",
     "text": [
      "Accuracy: 0.96\n"
     ]
    }
   ],
   "source": [
    "from sklearn.svm import SVC\n",
    "from sklearn.datasets import load_iris\n",
    "from sklearn.model_selection import train_test_split\n",
    "from sklearn.preprocessing import StandardScaler\n",
    "from sklearn.metrics import accuracy_score\n",
    "\n",
    "# Load dataset\n",
    "data = load_iris()\n",
    "X = data.data\n",
    "y = data.target\n",
    "\n",
    "# Split dataset\n",
    "X_train, X_test, y_train, y_test = train_test_split(X, y, test_size=0.3, random_state=42)\n",
    "\n",
    "# Preprocess the data (scaling)\n",
    "scaler = StandardScaler()\n",
    "X_train = scaler.fit_transform(X_train)\n",
    "X_test = scaler.transform(X_test)\n",
    "\n",
    "# Create SVC with polynomial kernel\n",
    "svc = SVC(kernel='poly', degree=3, C=1.0, gamma='auto')  # degree=3 for polynomial kernel of degree 3\n",
    "\n",
    "# Train the classifier\n",
    "svc.fit(X_train, y_train)\n",
    "\n",
    "# Predict on the test set\n",
    "y_pred = svc.predict(X_test)\n",
    "\n",
    "# Evaluate performance\n",
    "accuracy = accuracy_score(y_test, y_pred)\n",
    "print(f\"Accuracy: {accuracy:.2f}\")\n"
   ]
  },
  {
   "cell_type": "raw",
   "id": "ea6b21c8-a438-4c80-b17c-bf04208afad0",
   "metadata": {},
   "source": [
    "High \n",
    "𝜖\n",
    "ϵ: Allows for more deviation, reducing the number of support vectors but potentially leading to underfitting.\n",
    "Low \n",
    "𝜖\n",
    "ϵ: Stricter tolerance, potentially increasing support vectors and leading to a model that may overfit.\n",
    "Gamma Parameter (for RBF Kernel):\n",
    "\n",
    "Controls the influence of individual training examples.\n",
    "High Gamma: Makes the influence of a single training example more localized, potentially leading to overfitting.\n",
    "Low Gamma: Results in a more global influence, which can smooth out the decision boundary but may underfit."
   ]
  },
  {
   "cell_type": "code",
   "execution_count": null,
   "id": "45887d70-72c5-4b62-9b9c-f19a09facec9",
   "metadata": {},
   "outputs": [
    {
     "name": "stdout",
     "output_type": "stream",
     "text": [
      "Accuracy: 0.74\n",
      "Precision: 0.64\n",
      "Recall: 0.59\n",
      "F1 Score: 0.61\n",
      "Best Parameters: {'C': 1, 'gamma': 'scale', 'kernel': 'linear'}\n"
     ]
    }
   ],
   "source": [
    "import joblib\n",
    "from sklearn.svm import SVC\n",
    "from sklearn.model_selection import train_test_split, GridSearchCV\n",
    "from sklearn.preprocessing import StandardScaler\n",
    "from sklearn.metrics import accuracy_score, precision_score, recall_score, f1_score\n",
    "\n",
    "# Import necessary libraries\n",
    "import pandas as pd\n",
    "\n",
    "# Load dataset\n",
    "url = 'https://drive.google.com/uc?id=1Q4J8KS1wm4-_YTuc389enPh6O-eTNcx2'\n",
    "data = pd.read_csv(url)\n",
    "\n",
    "# Split the dataset into features and target\n",
    "X = data.drop('Outcome', axis=1)\n",
    "y = data['Outcome']\n",
    "\n",
    "# Split the dataset into training and testing sets\n",
    "X_train, X_test, y_train, y_test = train_test_split(X, y, test_size=0.3, random_state=42)\n",
    "\n",
    "# Preprocess the data (scaling)\n",
    "scaler = StandardScaler()\n",
    "X_train = scaler.fit_transform(X_train)\n",
    "X_test = scaler.transform(X_test)\n",
    "\n",
    "# Create an instance of SVC classifier and train it\n",
    "svc = SVC(kernel='rbf', random_state=42)  # Using RBF kernel as an example\n",
    "svc.fit(X_train, y_train)\n",
    "\n",
    "# Predict the labels of the testing data\n",
    "y_pred = svc.predict(X_test)\n",
    "\n",
    "# Evaluate the performance of the classifier\n",
    "accuracy = accuracy_score(y_test, y_pred)\n",
    "precision = precision_score(y_test, y_pred)\n",
    "recall = recall_score(y_test, y_pred)\n",
    "f1 = f1_score(y_test, y_pred)\n",
    "\n",
    "print(f\"Accuracy: {accuracy:.2f}\")\n",
    "print(f\"Precision: {precision:.2f}\")\n",
    "print(f\"Recall: {recall:.2f}\")\n",
    "print(f\"F1 Score: {f1:.2f}\")\n",
    "\n",
    "# Hyperparameter tuning using GridSearchCV\n",
    "param_grid = {\n",
    "    'C': [0.1, 1, 10],\n",
    "    'gamma': ['scale', 'auto'],\n",
    "    'kernel': ['linear', 'rbf', 'poly']\n",
    "}\n",
    "grid_search = GridSearchCV(SVC(), param_grid, cv=5, scoring='accuracy')\n",
    "grid_search.fit(X_train, y_train)\n",
    "\n",
    "print(f\"Best Parameters: {grid_search.best_params_}\")\n",
    "\n",
    "# Train the tuned classifier on the entire dataset\n",
    "best_svc = grid_search.best_estimator_\n",
    "best_svc.fit(X, y)\n",
    "\n",
    "# Save the trained classifier to a file\n",
    "joblib.dump(best_svc, 'best_svc_model.pkl')\n",
    "print(\"Model saved to 'best_svc_model.pkl'\")\n"
   ]
  },
  {
   "cell_type": "code",
   "execution_count": null,
   "id": "3265d844-be08-4cd5-b3cf-b86497238390",
   "metadata": {},
   "outputs": [],
   "source": []
  }
 ],
 "metadata": {
  "kernelspec": {
   "display_name": "Python 3 (ipykernel)",
   "language": "python",
   "name": "python3"
  },
  "language_info": {
   "codemirror_mode": {
    "name": "ipython",
    "version": 3
   },
   "file_extension": ".py",
   "mimetype": "text/x-python",
   "name": "python",
   "nbconvert_exporter": "python",
   "pygments_lexer": "ipython3",
   "version": "3.10.8"
  }
 },
 "nbformat": 4,
 "nbformat_minor": 5
}
