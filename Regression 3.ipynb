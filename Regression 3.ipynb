{
 "cells": [
  {
   "cell_type": "raw",
   "id": "e730c5dc-7398-4c0a-a854-f176b0494944",
   "metadata": {},
   "source": [
    "Q1. Ridge Regression vs. Ordinary Least Squares Regression\n",
    "Ridge Regression:\n",
    "\n",
    "Definition: A type of regularized linear regression that adds a penalty proportional to the square of the magnitude of coefficients to the cost function.\n",
    "RSS: Residual Sum of Squares.\n",
    "λ: Regularization parameter."
   ]
  },
  {
   "cell_type": "raw",
   "id": "8c55f6dd-9870-416d-8d6e-f060601adcb9",
   "metadata": {},
   "source": [
    "Q2. Assumptions of Ridge Regression\n",
    "Assumptions:\n",
    "\n",
    "Linearity: The relationship between independent and dependent variables is linear.\n",
    "Independence: Observations are independent of each other.\n",
    "Homoscedasticity: Constant variance of residuals.\n",
    "Normality of Errors: Residuals are normally distributed."
   ]
  },
  {
   "cell_type": "code",
   "execution_count": null,
   "id": "e8f007e0-b0f4-4afe-ae71-1142e1c2a073",
   "metadata": {},
   "outputs": [],
   "source": []
  },
  {
   "cell_type": "raw",
   "id": "baf1b981-05bf-4797-b566-4adbcf722ce5",
   "metadata": {},
   "source": [
    "Q3. Selecting the Tuning Parameter (λ) in Ridge Regression\n",
    "Methods to Select λ:\n",
    "\n",
    "Cross-Validation: Use k-fold cross-validation to evaluate model performance for different values of λ and select the one with the best performance.\n",
    "Grid Search: Test a range of λ values and choose the one that minimizes the cross-validation error."
   ]
  },
  {
   "cell_type": "code",
   "execution_count": 1,
   "id": "129f57d9-f607-4a17-bd35-22ddf1c5a784",
   "metadata": {},
   "outputs": [
    {
     "ename": "NameError",
     "evalue": "name 'X' is not defined",
     "output_type": "error",
     "traceback": [
      "\u001b[0;31m---------------------------------------------------------------------------\u001b[0m",
      "\u001b[0;31mNameError\u001b[0m                                 Traceback (most recent call last)",
      "Cell \u001b[0;32mIn[1], line 5\u001b[0m\n\u001b[1;32m      2\u001b[0m \u001b[38;5;28;01mfrom\u001b[39;00m \u001b[38;5;21;01msklearn\u001b[39;00m\u001b[38;5;21;01m.\u001b[39;00m\u001b[38;5;21;01mmodel_selection\u001b[39;00m \u001b[38;5;28;01mimport\u001b[39;00m train_test_split\n\u001b[1;32m      4\u001b[0m \u001b[38;5;66;03m# Example data\u001b[39;00m\n\u001b[0;32m----> 5\u001b[0m X_train, X_test, y_train, y_test \u001b[38;5;241m=\u001b[39m train_test_split(\u001b[43mX\u001b[49m, y, test_size\u001b[38;5;241m=\u001b[39m\u001b[38;5;241m0.2\u001b[39m, random_state\u001b[38;5;241m=\u001b[39m\u001b[38;5;241m42\u001b[39m)\n\u001b[1;32m      7\u001b[0m \u001b[38;5;66;03m# Ridge Regression with Cross-Validation\u001b[39;00m\n\u001b[1;32m      8\u001b[0m alphas \u001b[38;5;241m=\u001b[39m [\u001b[38;5;241m0.1\u001b[39m, \u001b[38;5;241m1.0\u001b[39m, \u001b[38;5;241m10.0\u001b[39m]\n",
      "\u001b[0;31mNameError\u001b[0m: name 'X' is not defined"
     ]
    }
   ],
   "source": [
    "from sklearn.linear_model import RidgeCV\n",
    "from sklearn.model_selection import train_test_split\n",
    "\n",
    "# Example data\n",
    "X_train, X_test, y_train, y_test = train_test_split(X, y, test_size=0.2, random_state=42)\n",
    "\n",
    "# Ridge Regression with Cross-Validation\n",
    "alphas = [0.1, 1.0, 10.0]\n",
    "ridge_cv = RidgeCV(alphas=alphas, store_cv_values=True)\n",
    "ridge_cv.fit(X_train, y_train)\n",
    "\n",
    "print(\"Best λ:\", ridge_cv.alpha_)\n"
   ]
  },
  {
   "cell_type": "raw",
   "id": "48bb98a0-7d1d-4642-806f-e35c46809af1",
   "metadata": {},
   "source": [
    "Q4. Ridge Regression and Feature Selection\n",
    "Feature Selection:\n",
    "\n",
    "Ridge Regression does not perform feature selection as it does not set coefficients to zero. It reduces the magnitude of coefficients but keeps all features in the model.\n",
    "Feature Importance:\n",
    "\n",
    "Although it does not select features, Ridge Regression can still highlight which features have relatively smaller or larger coefficients.\n",
    "Q5. Ridge Regression Performance with Multicollinearity\n",
    "Effectiveness:\n",
    "\n",
    "Ridge Regression performs well in the presence of multicollinearity. It helps by shrinking the coefficients of correlated variables, thus reducing the variance of the coefficient estimates and improving model stability.\n",
    "Q6. Handling Categorical and Continuous Variables\n",
    "Handling:\n",
    "\n",
    "Categorical Variables: Must be encoded into numerical values before applying Ridge Regression (e.g., one-hot encoding).\n",
    "Continuous Variables: Directly used as inputs in Ridge Regression."
   ]
  },
  {
   "cell_type": "raw",
   "id": "d52b221e-8cf0-47d0-b6c5-e171ca81908b",
   "metadata": {},
   "source": [
    "Q7. Interpreting Coefficients in Ridge Regression\n",
    "Interpretation:\n",
    "\n",
    "The coefficients in Ridge Regression represent the estimated effect of each predictor on the response variable, similar to OLS. However, they are shrunk towards zero due to regularization, which helps prevent overfitting.\n",
    "Example:\n",
    "If a coefficient is significantly smaller in Ridge Regression compared to OLS, it indicates that regularization has reduced the impact of that feature.\n",
    "\n",
    "Q8. Ridge Regression for Time-Series Data\n",
    "Usage:\n",
    "\n",
    "Ridge Regression can be used for time-series data analysis if the data is stationary and suitable for regression modeling. It helps in cases where multicollinearity is a concern, especially with lagged variables.\n",
    "Application:\n",
    "\n",
    "Ridge Regression can be used to forecast future values based on past observations, by incorporating regularization to handle potential multicollinearity in the time lags."
   ]
  },
  {
   "cell_type": "code",
   "execution_count": 2,
   "id": "9d719af8-c8e1-4f36-9aa4-fcb95d28a7ff",
   "metadata": {},
   "outputs": [
    {
     "ename": "NameError",
     "evalue": "name 'np' is not defined",
     "output_type": "error",
     "traceback": [
      "\u001b[0;31m---------------------------------------------------------------------------\u001b[0m",
      "\u001b[0;31mNameError\u001b[0m                                 Traceback (most recent call last)",
      "Cell \u001b[0;32mIn[2], line 5\u001b[0m\n\u001b[1;32m      2\u001b[0m \u001b[38;5;28;01mfrom\u001b[39;00m \u001b[38;5;21;01msklearn\u001b[39;00m\u001b[38;5;21;01m.\u001b[39;00m\u001b[38;5;21;01mpreprocessing\u001b[39;00m \u001b[38;5;28;01mimport\u001b[39;00m StandardScaler\n\u001b[1;32m      4\u001b[0m \u001b[38;5;66;03m# Example time-series data\u001b[39;00m\n\u001b[0;32m----> 5\u001b[0m X \u001b[38;5;241m=\u001b[39m \u001b[43mnp\u001b[49m\u001b[38;5;241m.\u001b[39marray([[\u001b[38;5;241m1\u001b[39m, \u001b[38;5;241m2\u001b[39m], [\u001b[38;5;241m2\u001b[39m, \u001b[38;5;241m3\u001b[39m], [\u001b[38;5;241m3\u001b[39m, \u001b[38;5;241m4\u001b[39m]])  \u001b[38;5;66;03m# Lagged variables\u001b[39;00m\n\u001b[1;32m      6\u001b[0m y \u001b[38;5;241m=\u001b[39m np\u001b[38;5;241m.\u001b[39marray([\u001b[38;5;241m3\u001b[39m, \u001b[38;5;241m4\u001b[39m, \u001b[38;5;241m5\u001b[39m])  \u001b[38;5;66;03m# Target variable\u001b[39;00m\n\u001b[1;32m      8\u001b[0m \u001b[38;5;66;03m# Scale data\u001b[39;00m\n",
      "\u001b[0;31mNameError\u001b[0m: name 'np' is not defined"
     ]
    }
   ],
   "source": [
    "from sklearn.linear_model import Ridge\n",
    "from sklearn.preprocessing import StandardScaler\n",
    "\n",
    "# Example time-series data\n",
    "X = np.array([[1, 2], [2, 3], [3, 4]])  # Lagged variables\n",
    "y = np.array([3, 4, 5])  # Target variable\n",
    "\n",
    "# Scale data\n",
    "scaler = StandardScaler()\n",
    "X_scaled = scaler.fit_transform(X)\n",
    "\n",
    "# Fit Ridge Regression model\n",
    "ridge_model = Ridge(alpha=1.0)\n",
    "ridge_model.fit(X_scaled, y)\n",
    "\n",
    "print(\"Coefficients:\", ridge_model.coef_)\n"
   ]
  },
  {
   "cell_type": "code",
   "execution_count": null,
   "id": "27f0bd25-607a-4e87-b774-83a5379fbb3b",
   "metadata": {},
   "outputs": [],
   "source": []
  }
 ],
 "metadata": {
  "kernelspec": {
   "display_name": "Python 3 (ipykernel)",
   "language": "python",
   "name": "python3"
  },
  "language_info": {
   "codemirror_mode": {
    "name": "ipython",
    "version": 3
   },
   "file_extension": ".py",
   "mimetype": "text/x-python",
   "name": "python",
   "nbconvert_exporter": "python",
   "pygments_lexer": "ipython3",
   "version": "3.10.8"
  }
 },
 "nbformat": 4,
 "nbformat_minor": 5
}
