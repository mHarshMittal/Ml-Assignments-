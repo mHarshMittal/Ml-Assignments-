{
 "cells": [
  {
   "cell_type": "raw",
   "id": "6b24dd17-6e05-4b9b-8917-44ecf1193d43",
   "metadata": {},
   "source": [
    "Q1. Difference Between Simple Linear Regression and Multiple Linear Regression\n",
    "Simple Linear Regression:\n",
    "\n",
    "Definition: Models the relationship between a single independent variable (predictor) and a dependent variable (response).\n",
    "Example: Predicting house prices based on the size of the house (square footage).\n",
    "Multiple Linear Regression:\n",
    "\n",
    "Definition: Models the relationship between two or more independent variables and a dependent variable."
   ]
  },
  {
   "cell_type": "code",
   "execution_count": null,
   "id": "e5c4f2c8-f90f-4d22-951f-921f97e846af",
   "metadata": {},
   "outputs": [],
   "source": []
  },
  {
   "cell_type": "raw",
   "id": "2f36c4a8-9a9c-4640-82ed-1e65610ae0d0",
   "metadata": {},
   "source": [
    "Q2. Assumptions of Linear Regression\n",
    "Linearity: The relationship between the dependent and independent variables is linear.\n",
    "\n",
    "Check: Plot the residuals versus predicted values. The plot should show no pattern.\n",
    "Independence: Observations are independent of each other.\n",
    "\n",
    "Check: Use the Durbin-Watson test for autocorrelation in residuals.\n",
    "Homoscedasticity: Constant variance of residuals across all levels of the independent variables.\n",
    "\n",
    "Check: Plot residuals versus predicted values. The spread should be consistent.\n",
    "Normality: Residuals of the model are normally distributed.\n",
    "\n",
    "Check: Q-Q plot or Shapiro-Wilk test for residuals.\n",
    "No Multicollinearity: Independent variables are not highly correlated.\n",
    "\n",
    "Check: Calculate Variance Inflation Factor (VIF) for each predictor."
   ]
  },
  {
   "cell_type": "code",
   "execution_count": null,
   "id": "6bbd662b-14ac-4bd9-89bf-77ae32391460",
   "metadata": {},
   "outputs": [],
   "source": []
  },
  {
   "cell_type": "raw",
   "id": "f25c8876-eba4-413e-9afe-b9a5e4e45acd",
   "metadata": {},
   "source": [
    "Q3. Interpreting the Slope and Intercept\n",
    "\n",
    " The value of the dependent variable when all independent variables are zero. It represents the starting point of the line on the Y-axis.\n",
    "Slope \n",
    "The change in the dependent variable for a one-unit change in the independent variable. It represents the rate of change."
   ]
  },
  {
   "cell_type": "code",
   "execution_count": null,
   "id": "2a479a8a-75e9-47b1-b772-261d156c4ce6",
   "metadata": {},
   "outputs": [],
   "source": []
  },
  {
   "cell_type": "raw",
   "id": "9ee93a91-dc6a-49ad-9156-6f48164b41a7",
   "metadata": {},
   "source": [
    "Q4. Concept of Gradient Descent\n",
    "Definition:\n",
    "\n",
    "Gradient Descent is an optimization algorithm used to minimize the cost function in machine learning models, including linear regression.\n",
    "How It Works: It iteratively adjusts model parameters by moving in the direction of the negative gradient of the cost function to find the minimum value."
   ]
  },
  {
   "cell_type": "code",
   "execution_count": null,
   "id": "5089389d-8753-4bcd-bb2b-18b35246d7fe",
   "metadata": {},
   "outputs": [],
   "source": []
  },
  {
   "cell_type": "raw",
   "id": "4d7c2f7b-8a2a-41a1-b0bb-7224162def2f",
   "metadata": {},
   "source": [
    "Q5. Multiple Linear Regression Model\n",
    "Definition:\n",
    "\n",
    "An extension of simple linear regression that includes two or more predictor variables to model the relationship with the response variable.\n",
    "Difference from Simple Linear Regression:\n",
    "\n",
    "Simple Linear Regression: One predictor variable.\n",
    "Multiple Linear Regression: Multiple predictor variables.\n",
    "Example:\n",
    "Predicting house prices based on square footage, number of bedrooms, and location."
   ]
  },
  {
   "cell_type": "code",
   "execution_count": null,
   "id": "408e85ab-1ee1-4e92-b26f-54dc4ff04a5f",
   "metadata": {},
   "outputs": [],
   "source": []
  },
  {
   "cell_type": "raw",
   "id": "3424984a-14bd-493d-95c4-b6cd3457a00c",
   "metadata": {},
   "source": [
    "Q6. Multicollinearity in Multiple Linear Regression\n",
    "Definition:\n",
    "\n",
    "Occurs when two or more independent variables in a regression model are highly correlated, leading to unreliable estimates of coefficients.\n",
    "Detection:\n",
    "\n",
    "Correlation Matrix: High correlation coefficients between predictors.\n",
    "Variance Inflation Factor (VIF): High VIF values (typically > 10) indicate multicollinearity.\n"
   ]
  },
  {
   "cell_type": "code",
   "execution_count": null,
   "id": "a7acab32-481b-4408-b1dd-26388c138507",
   "metadata": {},
   "outputs": [],
   "source": []
  },
  {
   "cell_type": "raw",
   "id": "3ccbc49d-5cb2-4cb3-bfa7-54c1b1d26732",
   "metadata": {},
   "source": [
    "Q7. Polynomial Regression Model\n",
    "Definition:\n",
    "\n",
    "A type of regression that models the relationship between the dependent variable and independent variable(s) as an nth-degree polynomial.\n",
    "Difference from Linear Regression:\n",
    "\n",
    "Linear Regression: Assumes a linear relationship between predictors and response.\n",
    "Polynomial Regression: Can capture nonlinear relationships by including polynomial terms."
   ]
  },
  {
   "cell_type": "code",
   "execution_count": null,
   "id": "96c13ed4-053e-46f1-960f-b37fe7e225d9",
   "metadata": {},
   "outputs": [],
   "source": []
  },
  {
   "cell_type": "raw",
   "id": "ad4b00e7-fe4a-4fa0-b99c-744696bf1116",
   "metadata": {},
   "source": [
    "Q8. Advantages and Disadvantages of Polynomial Regression\n",
    "Advantages:\n",
    "\n",
    "Flexibility: Can model complex relationships by fitting curves.\n",
    "Improved Fit: Can fit the training data more closely.\n",
    "Disadvantages:\n",
    "\n",
    "Overfitting: Higher-degree polynomials can overfit the training data and perform poorly on new data.\n",
    "Complexity: More complex models require more computational resources and can be harder to interpret."
   ]
  },
  {
   "cell_type": "code",
   "execution_count": null,
   "id": "17e88e13-66a5-47c9-afce-015242f20f7e",
   "metadata": {},
   "outputs": [],
   "source": []
  }
 ],
 "metadata": {
  "kernelspec": {
   "display_name": "Python 3 (ipykernel)",
   "language": "python",
   "name": "python3"
  },
  "language_info": {
   "codemirror_mode": {
    "name": "ipython",
    "version": 3
   },
   "file_extension": ".py",
   "mimetype": "text/x-python",
   "name": "python",
   "nbconvert_exporter": "python",
   "pygments_lexer": "ipython3",
   "version": "3.10.8"
  }
 },
 "nbformat": 4,
 "nbformat_minor": 5
}
