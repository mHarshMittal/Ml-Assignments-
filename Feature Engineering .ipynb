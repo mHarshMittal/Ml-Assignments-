{
 "cells": [
  {
   "cell_type": "raw",
   "id": "7c09e20f-30c4-4027-9cbf-19519002801f",
   "metadata": {},
   "source": [
    "Q1. Difference Between Ordinal Encoding and Label Encoding\n",
    "Label Encoding:\n",
    "\n",
    "Converts categorical values to integers without any assumption of order.\n",
    "Example: Color (Red, Green, Blue) could be encoded as 0, 1, 2.\n",
    "Ordinal Encoding:\n",
    "\n",
    "Used for categorical values where there is a meaningful order or ranking.\n",
    "Example: Size (Small, Medium, Large) could be encoded as 0, 1, 2.\n",
    "When to Choose:\n",
    "\n",
    "Label Encoding: When the categorical variable does not have an inherent order (e.g., Color).\n",
    "Ordinal Encoding: When the categorical variable has a natural order (e.g., Size)."
   ]
  },
  {
   "cell_type": "raw",
   "id": "636e7788-fb27-4996-8c8d-dec13db326c8",
   "metadata": {},
   "source": [
    "Q2. Target Guided Ordinal Encoding\n",
    "How It Works:\n",
    "\n",
    "Encodes categorical features based on the target variable's mean for each category.\n",
    "The categories are ordered by the mean of the target variable.\n",
    "Example:\n",
    "If you have a dataset where the target variable is House Price, and the feature is Neighborhood with categories A, B, C, you might encode these categories based on the average house price in each neighborhood."
   ]
  },
  {
   "cell_type": "code",
   "execution_count": 2,
   "id": "95c8f8bc-663a-494d-9376-695ca002c621",
   "metadata": {},
   "outputs": [
    {
     "name": "stdout",
     "output_type": "stream",
     "text": [
      "  Neighborhood   Price  Neighborhood_encoded\n",
      "0            A  200000                     0\n",
      "1            B  300000                     2\n",
      "2            C  250000                     1\n",
      "3            A  210000                     0\n",
      "4            C  260000                     1\n",
      "5            B  290000                     2\n"
     ]
    }
   ],
   "source": [
    "import pandas as pd\n",
    "import numpy as np\n",
    "\n",
    "# Example dataset\n",
    "data = pd.DataFrame({\n",
    "    'Neighborhood': ['A', 'B', 'C', 'A', 'C', 'B'],\n",
    "    'Price': [200000, 300000, 250000, 210000, 260000, 290000]\n",
    "})\n",
    "\n",
    "# Calculate mean price per neighborhood\n",
    "mean_price = data.groupby('Neighborhood')['Price'].mean().sort_values().index\n",
    "encoding = {neighborhood: i for i, neighborhood in enumerate(mean_price)}\n",
    "\n",
    "# Apply encoding\n",
    "data['Neighborhood_encoded'] = data['Neighborhood'].map(encoding)\n",
    "print(data)\n"
   ]
  },
  {
   "cell_type": "raw",
   "id": "a8d8d1dc-4f7d-472e-9032-fabed98a38b5",
   "metadata": {},
   "source": [
    "Q3. Covariance\n",
    "Definition:\n",
    "\n",
    "Covariance measures the degree to which two variables change together.\n",
    "Positive covariance indicates that as one variable increases, the other tends to increase.\n",
    "Negative covariance indicates that as one variable increases, the other tends to decrease."
   ]
  },
  {
   "cell_type": "code",
   "execution_count": null,
   "id": "b2e4da9b-d087-46cb-8587-2ca3d9f29b20",
   "metadata": {},
   "outputs": [],
   "source": []
  },
  {
   "cell_type": "code",
   "execution_count": 3,
   "id": "44c5c102-e9b2-4fde-acea-df4b331c378a",
   "metadata": {},
   "outputs": [
    {
     "name": "stdout",
     "output_type": "stream",
     "text": [
      "   Color    Size Material  Color_encoded  Size_encoded  Material_encoded\n",
      "0    red   small     wood              2             2                 2\n",
      "1  green  medium    metal              1             1                 0\n",
      "2   blue   large  plastic              0             0                 1\n",
      "3  green  medium    metal              1             1                 0\n",
      "4    red   small     wood              2             2                 2\n"
     ]
    }
   ],
   "source": [
    "from sklearn.preprocessing import LabelEncoder\n",
    "\n",
    "# Dataset\n",
    "data = pd.DataFrame({\n",
    "    'Color': ['red', 'green', 'blue', 'green', 'red'],\n",
    "    'Size': ['small', 'medium', 'large', 'medium', 'small'],\n",
    "    'Material': ['wood', 'metal', 'plastic', 'metal', 'wood']\n",
    "})\n",
    "\n",
    "# Label Encoding\n",
    "label_encoders = {}\n",
    "for column in data.columns:\n",
    "    le = LabelEncoder()\n",
    "    data[column + '_encoded'] = le.fit_transform(data[column])\n",
    "    label_encoders[column] = le\n",
    "\n",
    "print(data)\n"
   ]
  },
  {
   "cell_type": "code",
   "execution_count": 4,
   "id": "75f72c87-08d1-470e-a9c4-375b37145cfa",
   "metadata": {},
   "outputs": [
    {
     "name": "stdout",
     "output_type": "stream",
     "text": [
      "                Age       Income  Education\n",
      "Age            62.5     125000.0       12.5\n",
      "Income     125000.0  250000000.0    25000.0\n",
      "Education      12.5      25000.0        2.5\n"
     ]
    }
   ],
   "source": [
    "import numpy as np\n",
    "\n",
    "# Example data\n",
    "data = pd.DataFrame({\n",
    "    'Age': [25, 30, 35, 40, 45],\n",
    "    'Income': [50000, 60000, 70000, 80000, 90000],\n",
    "    'Education': [1, 2, 3, 4, 5]  # Example numeric encoding for education\n",
    "})\n",
    "\n",
    "# Calculate covariance matrix\n",
    "cov_matrix = data.cov()\n",
    "print(cov_matrix)\n"
   ]
  },
  {
   "cell_type": "raw",
   "id": "3ff836a2-f6c5-419d-b8cf-8b0c2013adbb",
   "metadata": {},
   "source": [
    "Q6. Encoding Methods for Categorical Variables\n",
    "Encoding Choices:\n",
    "\n",
    "Gender: Binary encoding or Label Encoding (if only two categories).\n",
    "Education Level: Ordinal Encoding (since there is a natural order).\n",
    "Employment Status: One-Hot Encoding (since there is no inherent order)"
   ]
  },
  {
   "cell_type": "code",
   "execution_count": 5,
   "id": "cd8d9c36-6171-4130-a08a-a449721fa097",
   "metadata": {},
   "outputs": [
    {
     "name": "stdout",
     "output_type": "stream",
     "text": [
      "                           Temperature      Humidity  \\\n",
      "Temperature               6.250000e+01 -1.875000e+01   \n",
      "Humidity                 -1.875000e+01  6.250000e+01   \n",
      "Weather Condition_Cloudy  5.551115e-17  1.250000e+00   \n",
      "Weather Condition_Rainy   2.775558e-17  2.500000e+00   \n",
      "Weather Condition_Sunny   5.551115e-17 -3.750000e+00   \n",
      "Wind Direction_East       2.775558e-17  2.500000e+00   \n",
      "Wind Direction_North      5.551115e-17 -3.750000e+00   \n",
      "Wind Direction_South      1.250000e+00 -4.163336e-17   \n",
      "Wind Direction_West      -1.250000e+00  1.250000e+00   \n",
      "\n",
      "                          Weather Condition_Cloudy  Weather Condition_Rainy  \\\n",
      "Temperature                           5.551115e-17             2.775558e-17   \n",
      "Humidity                              1.250000e+00             2.500000e+00   \n",
      "Weather Condition_Cloudy              3.000000e-01            -1.000000e-01   \n",
      "Weather Condition_Rainy              -1.000000e-01             2.000000e-01   \n",
      "Weather Condition_Sunny              -2.000000e-01            -1.000000e-01   \n",
      "Wind Direction_East                  -1.000000e-01             2.000000e-01   \n",
      "Wind Direction_North                 -2.000000e-01            -1.000000e-01   \n",
      "Wind Direction_South                  1.500000e-01            -5.000000e-02   \n",
      "Wind Direction_West                   1.500000e-01            -5.000000e-02   \n",
      "\n",
      "                          Weather Condition_Sunny  Wind Direction_East  \\\n",
      "Temperature                          5.551115e-17         2.775558e-17   \n",
      "Humidity                            -3.750000e+00         2.500000e+00   \n",
      "Weather Condition_Cloudy            -2.000000e-01        -1.000000e-01   \n",
      "Weather Condition_Rainy             -1.000000e-01         2.000000e-01   \n",
      "Weather Condition_Sunny              3.000000e-01        -1.000000e-01   \n",
      "Wind Direction_East                 -1.000000e-01         2.000000e-01   \n",
      "Wind Direction_North                 3.000000e-01        -1.000000e-01   \n",
      "Wind Direction_South                -1.000000e-01        -5.000000e-02   \n",
      "Wind Direction_West                 -1.000000e-01        -5.000000e-02   \n",
      "\n",
      "                          Wind Direction_North  Wind Direction_South  \\\n",
      "Temperature                       5.551115e-17          1.250000e+00   \n",
      "Humidity                         -3.750000e+00         -4.163336e-17   \n",
      "Weather Condition_Cloudy         -2.000000e-01          1.500000e-01   \n",
      "Weather Condition_Rainy          -1.000000e-01         -5.000000e-02   \n",
      "Weather Condition_Sunny           3.000000e-01         -1.000000e-01   \n",
      "Wind Direction_East              -1.000000e-01         -5.000000e-02   \n",
      "Wind Direction_North              3.000000e-01         -1.000000e-01   \n",
      "Wind Direction_South             -1.000000e-01          2.000000e-01   \n",
      "Wind Direction_West              -1.000000e-01         -5.000000e-02   \n",
      "\n",
      "                          Wind Direction_West  \n",
      "Temperature                             -1.25  \n",
      "Humidity                                 1.25  \n",
      "Weather Condition_Cloudy                 0.15  \n",
      "Weather Condition_Rainy                 -0.05  \n",
      "Weather Condition_Sunny                 -0.10  \n",
      "Wind Direction_East                     -0.05  \n",
      "Wind Direction_North                    -0.10  \n",
      "Wind Direction_South                    -0.05  \n",
      "Wind Direction_West                      0.20  \n"
     ]
    }
   ],
   "source": [
    "import pandas as pd\n",
    "import numpy as np\n",
    "\n",
    "# Example data\n",
    "data = pd.DataFrame({\n",
    "    'Temperature': [30, 25, 20, 15, 10],\n",
    "    'Humidity': [70, 80, 90, 85, 75],\n",
    "    'Weather Condition': ['Sunny', 'Cloudy', 'Rainy', 'Cloudy', 'Sunny'],\n",
    "    'Wind Direction': ['North', 'South', 'East', 'West', 'North']\n",
    "})\n",
    "\n",
    "# Encode categorical variables\n",
    "data_encoded = pd.get_dummies(data, columns=['Weather Condition', 'Wind Direction'])\n",
    "\n",
    "# Calculate covariance matrix\n",
    "cov_matrix = data_encoded.cov()\n",
    "print(cov_matrix)\n"
   ]
  },
  {
   "cell_type": "code",
   "execution_count": null,
   "id": "80093608-deb2-4263-8107-63595b8d07b4",
   "metadata": {},
   "outputs": [],
   "source": []
  }
 ],
 "metadata": {
  "kernelspec": {
   "display_name": "Python 3 (ipykernel)",
   "language": "python",
   "name": "python3"
  },
  "language_info": {
   "codemirror_mode": {
    "name": "ipython",
    "version": 3
   },
   "file_extension": ".py",
   "mimetype": "text/x-python",
   "name": "python",
   "nbconvert_exporter": "python",
   "pygments_lexer": "ipython3",
   "version": "3.10.8"
  }
 },
 "nbformat": 4,
 "nbformat_minor": 5
}
