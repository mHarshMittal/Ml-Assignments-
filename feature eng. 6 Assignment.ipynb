{
 "cells": [
  {
   "cell_type": "markdown",
   "id": "feb31f1f-defc-48ce-92c0-da934c935c3a",
   "metadata": {},
   "source": [
    "Feature Engineering-6"
   ]
  },
  {
   "cell_type": "raw",
   "id": "d140b11b-33a8-44b7-a672-44b9c5f0a6ed",
   "metadata": {},
   "source": [
    "Q1. Pearson Correlation Coefficient\n",
    "Let's assume you have data for the amount of time students spend studying (hours) and their final exam scores:"
   ]
  },
  {
   "cell_type": "code",
   "execution_count": 1,
   "id": "80121a52-b1aa-4885-a731-1c5d54cfe91b",
   "metadata": {},
   "outputs": [
    {
     "name": "stdout",
     "output_type": "stream",
     "text": [
      "Pearson correlation coefficient (Q1): 0.99\n"
     ]
    }
   ],
   "source": [
    "import pandas as pd\n",
    "from scipy.stats import pearsonr\n",
    "\n",
    "# Sample data\n",
    "data1 = {\n",
    "    'Hours_Studied': [2, 3, 5, 6, 8],\n",
    "    'Exam_Score': [70, 75, 80, 85, 90]\n",
    "}\n",
    "\n",
    "# Create DataFrame\n",
    "df1 = pd.DataFrame(data1)\n",
    "\n",
    "# Calculate Pearson correlation coefficient\n",
    "pearson_corr1, _ = pearsonr(df1['Hours_Studied'], df1['Exam_Score'])\n",
    "\n",
    "print(f\"Pearson correlation coefficient (Q1): {pearson_corr1:.2f}\")\n"
   ]
  },
  {
   "cell_type": "raw",
   "id": "62e779ff-f4c8-4bc5-904b-e88a8ff8531e",
   "metadata": {},
   "source": [
    "Q2. Spearman's Rank Correlation\n",
    "Let's assume you have data for the amount of sleep (hours) and job satisfaction level:"
   ]
  },
  {
   "cell_type": "code",
   "execution_count": 2,
   "id": "e33dfee0-0775-4e8b-b545-276dd9c35f6e",
   "metadata": {},
   "outputs": [
    {
     "name": "stdout",
     "output_type": "stream",
     "text": [
      "Spearman's rank correlation coefficient (Q2): 1.00\n"
     ]
    }
   ],
   "source": [
    "from scipy.stats import spearmanr\n",
    "\n",
    "# Sample data\n",
    "data2 = {\n",
    "    'Sleep_Hours': [6, 7, 8, 9, 10],\n",
    "    'Job_Satisfaction': [5, 6, 7, 8, 9]\n",
    "}\n",
    "\n",
    "# Create DataFrame\n",
    "df2 = pd.DataFrame(data2)\n",
    "\n",
    "# Calculate Spearman's rank correlation coefficient\n",
    "spearman_corr2, _ = spearmanr(df2['Sleep_Hours'], df2['Job_Satisfaction'])\n",
    "\n",
    "print(f\"Spearman's rank correlation coefficient (Q2): {spearman_corr2:.2f}\")\n"
   ]
  },
  {
   "cell_type": "raw",
   "id": "6dce943e-ac91-4e53-8813-56913e0382e1",
   "metadata": {},
   "source": [
    "Q3. Comparing Pearson and Spearman Correlation\n",
    "Let's assume you have data for hours of exercise per week and BMI:"
   ]
  },
  {
   "cell_type": "code",
   "execution_count": 3,
   "id": "1060cb0d-d9f5-40df-b2c2-c91fe322a5be",
   "metadata": {},
   "outputs": [
    {
     "name": "stdout",
     "output_type": "stream",
     "text": [
      "Pearson correlation coefficient (Q3): -1.00\n",
      "Spearman's rank correlation coefficient (Q3): -1.00\n"
     ]
    }
   ],
   "source": [
    "# Sample data\n",
    "data3 = {\n",
    "    'Exercise_Hours': [1, 2, 3, 4, 5, 6, 7, 8, 9, 10],\n",
    "    'BMI': [30, 28, 26, 24, 22, 20, 18, 16, 14, 12]\n",
    "}\n",
    "\n",
    "# Create DataFrame\n",
    "df3 = pd.DataFrame(data3)\n",
    "\n",
    "# Calculate Pearson and Spearman correlation coefficients\n",
    "pearson_corr3, _ = pearsonr(df3['Exercise_Hours'], df3['BMI'])\n",
    "spearman_corr3, _ = spearmanr(df3['Exercise_Hours'], df3['BMI'])\n",
    "\n",
    "print(f\"Pearson correlation coefficient (Q3): {pearson_corr3:.2f}\")\n",
    "print(f\"Spearman's rank correlation coefficient (Q3): {spearman_corr3:.2f}\")\n"
   ]
  },
  {
   "cell_type": "raw",
   "id": "fa0a170c-438a-442c-96d4-fae19ce510e1",
   "metadata": {},
   "source": [
    "Q4. Pearson Correlation for TV Watching and Physical Activity\n",
    "Assume you have data for hours of TV watching per day and level of physical activity:"
   ]
  },
  {
   "cell_type": "code",
   "execution_count": 4,
   "id": "8cf3cb96-9f95-4dc8-a832-cd365e690c35",
   "metadata": {},
   "outputs": [
    {
     "name": "stdout",
     "output_type": "stream",
     "text": [
      "Pearson correlation coefficient (Q4): -1.00\n"
     ]
    }
   ],
   "source": [
    "# Sample data\n",
    "data4 = {\n",
    "    'TV_Hours': [1, 2, 3, 4, 5],\n",
    "    'Physical_Activity': [9, 8, 7, 6, 5]\n",
    "}\n",
    "\n",
    "# Create DataFrame\n",
    "df4 = pd.DataFrame(data4)\n",
    "\n",
    "# Calculate Pearson correlation coefficient\n",
    "pearson_corr4, _ = pearsonr(df4['TV_Hours'], df4['Physical_Activity'])\n",
    "\n",
    "print(f\"Pearson correlation coefficient (Q4): {pearson_corr4:.2f}\")\n"
   ]
  },
  {
   "cell_type": "raw",
   "id": "e1b4f940-16ac-4947-863d-34f9bc480d39",
   "metadata": {},
   "source": [
    "Q5. Survey Data on Age and Soft Drink Preference\n",
    "Assume you have the following survey data:"
   ]
  },
  {
   "cell_type": "code",
   "execution_count": 5,
   "id": "e5251149-711f-4a0c-958b-a6ab3206765b",
   "metadata": {},
   "outputs": [
    {
     "name": "stdout",
     "output_type": "stream",
     "text": [
      "Pearson correlation coefficient (Q5): -1.00\n"
     ]
    }
   ],
   "source": [
    "# Sample data\n",
    "data5 = {\n",
    "    'Age': [20, 25, 30, 35, 40],\n",
    "    'Soft_Drink_Preference': [7, 6, 5, 4, 3]\n",
    "}\n",
    "\n",
    "# Create DataFrame\n",
    "df5 = pd.DataFrame(data5)\n",
    "\n",
    "# Calculate Pearson correlation coefficient\n",
    "pearson_corr5, _ = pearsonr(df5['Age'], df5['Soft_Drink_Preference'])\n",
    "\n",
    "print(f\"Pearson correlation coefficient (Q5): {pearson_corr5:.2f}\")\n"
   ]
  },
  {
   "cell_type": "raw",
   "id": "2598f563-fc49-4153-a955-c7f8ab17dba1",
   "metadata": {},
   "source": [
    "Q6. Sales Calls and Sales Made\n",
    "Assume you have data for the number of sales calls made per day and the number of sales made per week:"
   ]
  },
  {
   "cell_type": "code",
   "execution_count": 6,
   "id": "ef8a6d9c-5387-47c2-b61d-eb8aecc5fac8",
   "metadata": {},
   "outputs": [
    {
     "name": "stdout",
     "output_type": "stream",
     "text": [
      "Pearson correlation coefficient (Q6): 1.00\n"
     ]
    }
   ],
   "source": [
    "# Sample data\n",
    "data6 = {\n",
    "    'Sales_Calls': [5, 10, 15, 20, 25],\n",
    "    'Sales_Made': [10, 15, 20, 25, 30]\n",
    "}\n",
    "\n",
    "# Create DataFrame\n",
    "df6 = pd.DataFrame(data6)\n",
    "\n",
    "# Calculate Pearson correlation coefficient\n",
    "pearson_corr6, _ = pearsonr(df6['Sales_Calls'], df6['Sales_Made'])\n",
    "\n",
    "print(f\"Pearson correlation coefficient (Q6): {pearson_corr6:.2f}\")\n"
   ]
  },
  {
   "cell_type": "code",
   "execution_count": null,
   "id": "8c90a55a-a85b-4952-85db-1a98785afc4b",
   "metadata": {},
   "outputs": [],
   "source": []
  }
 ],
 "metadata": {
  "kernelspec": {
   "display_name": "Python 3 (ipykernel)",
   "language": "python",
   "name": "python3"
  },
  "language_info": {
   "codemirror_mode": {
    "name": "ipython",
    "version": 3
   },
   "file_extension": ".py",
   "mimetype": "text/x-python",
   "name": "python",
   "nbconvert_exporter": "python",
   "pygments_lexer": "ipython3",
   "version": "3.10.8"
  }
 },
 "nbformat": 4,
 "nbformat_minor": 5
}
