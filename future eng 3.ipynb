{
 "cells": [
  {
   "cell_type": "raw",
   "id": "8db239da-824f-4c38-99a3-b1ff8d0ceaab",
   "metadata": {},
   "source": [
    "Feature Engineering-3"
   ]
  },
  {
   "cell_type": "raw",
   "id": "e8524864-2a9b-47be-bea9-962e001bdf9b",
   "metadata": {},
   "source": [
    "Assignment Questions"
   ]
  },
  {
   "cell_type": "raw",
   "id": "5e6f5872-64f1-417c-bf24-e47c58cb847b",
   "metadata": {},
   "source": [
    "Q1. Min-Max scaling is a data preprocessing technique used to scale and normalize features to a fixed range, usually between 0 and 1. It is done by subtracting the minimum value and then dividing by the range of values. For example, if you have a feature with values ranging from 10 to 50, after Min-Max scaling, these values would be transformed to range from 0 to 1.\n",
    "\n",
    "Q2. The Unit Vector technique, also known as normalization or L2 normalization, scales the values of a feature vector to have unit norm. This means that the vector is transformed to a unit vector in the same direction but with a magnitude of 1. Unlike Min-Max scaling, which shifts and scales the values to a specific range, Unit Vector technique focuses on the direction of the vector.\n",
    "\n",
    "Q3. PCA, or Principal Component Analysis, is a technique used in dimensionality reduction to transform a dataset into a lower-dimensional space called principal components. It identifies the directions (principal components) that capture the maximum variance in the data.\n",
    "\n",
    "Q4. PCA is closely related to Feature Extraction as it aims to find new features by transforming the existing features into a new set of orthogonal features (principal components) that captures the maximum variance in the data. By reducing the dimensionality through PCA, we can extract the most important features that contribute significantly to the variance in the data.\n",
    "\n",
    "Q5. In a food delivery service recommendation system project, you can use Min-Max scaling to preprocess features like price, rating, and delivery time. By applying Min-Max scaling, you can bring all these features to a common scale between 0 and 1, ensuring that no single feature dominates the others due to its larger range of values.\n",
    "\n",
    "Q6. In a stock price prediction project with a dataset containing various features, PCA can be used to reduce the dimensionality by identifying the principal components that capture the most significant variance in the data. This can help in identifying the key variables affecting stock prices and simplifying the model while retaining important information.\n",
    "\n",
    "Q7. To perform Min-Max scaling on the dataset [1, 5, 10, 15, 20] to transform the values to a range of -1 to 1, you can use the formula:\n",
    "Applying this formula, the Min-Max scaled values would be [-1, -0.5, 0, 0.5, 1]\n",
    "\n",
    "\n",
    "Q8. When performing Feature Extraction using PCA on a dataset with features [height, weight, age, gender, blood pressure], the number of principal components to retain should be decided based on the cumulative explained variance ratio. Typically, a significant portion of variance (e.g., 95%) should be retained while reducing the dimensionality. The number of principal components chosen will balance retaining enough information while reducing dimensionality effectively."
   ]
  },
  {
   "cell_type": "code",
   "execution_count": null,
   "id": "22298441-8b2a-4323-b187-decdacb16436",
   "metadata": {},
   "outputs": [],
   "source": []
  }
 ],
 "metadata": {
  "kernelspec": {
   "display_name": "Python 3 (ipykernel)",
   "language": "python",
   "name": "python3"
  },
  "language_info": {
   "codemirror_mode": {
    "name": "ipython",
    "version": 3
   },
   "file_extension": ".py",
   "mimetype": "text/x-python",
   "name": "python",
   "nbconvert_exporter": "python",
   "pygments_lexer": "ipython3",
   "version": "3.10.8"
  }
 },
 "nbformat": 4,
 "nbformat_minor": 5
}
